{
 "cells": [
  {
   "cell_type": "code",
   "execution_count": null,
   "metadata": {},
   "outputs": [],
   "source": [
    "# Linear Regression\n",
    "\n",
    "# Linear Regression is the best fitted line to points, that is, the line represents the minimum of the sum \n",
    "# squared residuals. The general formula for the 1d-linear regression: y = mx+b. Where...\n",
    "# y = response, m = slope, x = predictor, b = intercept.\n",
    "# Linear regression is sensitive to outliers, especially if there are only a few data points or the outlier \n",
    "# differs a lot from the general pattern or distribution of the data points. The outliers have to be identified \n",
    "# deleted before plotting the linear regression line.\n",
    "# Linear regression is a general approach to do some predictions \n",
    "\n",
    "# Multiple Regression\n",
    "\n",
    "# Multiple regression is also the best fitted line, but now in more than 1 dimension. Multiple regression has not \n",
    "# only one predictor variable x. There is possible to overfit or underfit the data by choosing a regression with \n",
    "# more or less dimensions compared to the general data points pattern (e.g data set follows a 2 dim pattern and \n",
    "# we take a 4 dim regression)"
   ]
  }
 ],
 "metadata": {
  "kernelspec": {
   "display_name": "Python [conda env:nf] *",
   "language": "python",
   "name": "conda-env-nf-py"
  },
  "language_info": {
   "codemirror_mode": {
    "name": "ipython",
    "version": 3
   },
   "file_extension": ".py",
   "mimetype": "text/x-python",
   "name": "python",
   "nbconvert_exporter": "python",
   "pygments_lexer": "ipython3",
   "version": "3.6.6"
  }
 },
 "nbformat": 4,
 "nbformat_minor": 2
}
